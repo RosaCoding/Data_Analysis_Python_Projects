{
 "cells": [
  {
   "cell_type": "markdown",
   "metadata": {},
   "source": [
    "Before we get started, a couple of reminders to keep in mind when using iPython notebooks:\n",
    "\n",
    "- Remember that you can see from the left side of a code cell when it was last run if there is a number within the brackets.\n",
    "- When you start a new notebook session, make sure you run all of the cells up to the point where you last left off. Even if the output is still visible from when you ran the cells in your previous session, the kernel starts in a fresh state so you'll need to reload the data, etc. on a new session.\n",
    "- The previous point is useful to keep in mind if your answers do not match what is expected in the lesson's quizzes. Try reloading the data and run all of the processing steps one by one in order to make sure that you are working with the same variables and data that are at each quiz stage.\n",
    "\n",
    "\n",
    "## Load Data from CSVs"
   ]
  },
  {
   "cell_type": "code",
   "execution_count": 1,
   "metadata": {},
   "outputs": [
    {
     "data": {
      "text/plain": [
       "{'account_key': '448',\n",
       " 'cancel_date': '2015-01-14',\n",
       " 'days_to_cancel': '65',\n",
       " 'is_canceled': 'True',\n",
       " 'is_udacity': 'True',\n",
       " 'join_date': '2014-11-10',\n",
       " 'status': 'canceled'}"
      ]
     },
     "execution_count": 1,
     "metadata": {},
     "output_type": "execute_result"
    }
   ],
   "source": [
    "import unicodecsv\n",
    "\n",
    "## Longer version of code (replaced with shorter, equivalent version below)\n",
    "\n",
    "# enrollments = []\n",
    "# f = open('enrollments.csv', 'rb')\n",
    "# reader = unicodecsv.DictReader(f)\n",
    "# for row in reader:\n",
    "#     enrollments.append(row)\n",
    "# f.close()\n",
    "\n",
    "with open('enrollments.csv', 'rb') as f:\n",
    "    reader = unicodecsv.DictReader(f)\n",
    "    enrollments = list(reader)\n",
    "\n",
    "enrollments[0]"
   ]
  },
  {
   "cell_type": "code",
   "execution_count": 2,
   "metadata": {},
   "outputs": [
    {
     "name": "stdout",
     "output_type": "stream",
     "text": [
      "{'days_to_cancel': '65', 'status': 'canceled', 'account_key': '448', 'is_udacity': 'True', 'join_date': '2014-11-10', 'cancel_date': '2015-01-14', 'is_canceled': 'True'}\n",
      "{'total_minutes_visited': '11.6793745', 'acct': '0', 'num_courses_visited': '1.0', 'utc_date': '2015-01-09', 'lessons_completed': '0.0', 'projects_completed': '0.0'}\n",
      "{'creation_date': '2015-01-14', 'account_key': '256', 'lesson_key': '3176718735', 'assigned_rating': 'UNGRADED', 'completion_date': '2015-01-16', 'processing_state': 'EVALUATED'}\n"
     ]
    }
   ],
   "source": [
    "#####################################\n",
    "#                 1                 #\n",
    "#####################################\n",
    "\n",
    "## Read in the data from daily_engagement.csv and project_submissions.csv \n",
    "## and store the results in the below variables.\n",
    "## Then look at the first row of each table.\n",
    "import unicodecsv\n",
    "\n",
    "def read_csv(filename):\n",
    "    with open(filename, 'rb') as f:\n",
    "        reader = unicodecsv.DictReader(f)\n",
    "        return list(reader)\n",
    "\n",
    "enrollments = read_csv('enrollments.csv')\n",
    "daily_engagement = read_csv('daily_engagement.csv')\n",
    "project_submissions = read_csv('project_submissions.csv')\n",
    "\n",
    "print(enrollments[0])\n",
    "print(daily_engagement[0])\n",
    "print(project_submissions[0])"
   ]
  },
  {
   "cell_type": "markdown",
   "metadata": {},
   "source": [
    "## Fixing Data Types"
   ]
  },
  {
   "cell_type": "code",
   "execution_count": 3,
   "metadata": {},
   "outputs": [
    {
     "data": {
      "text/plain": [
       "{'account_key': '448',\n",
       " 'cancel_date': datetime.datetime(2015, 1, 14, 0, 0),\n",
       " 'days_to_cancel': 65,\n",
       " 'is_canceled': True,\n",
       " 'is_udacity': True,\n",
       " 'join_date': datetime.datetime(2014, 11, 10, 0, 0),\n",
       " 'status': 'canceled'}"
      ]
     },
     "execution_count": 3,
     "metadata": {},
     "output_type": "execute_result"
    }
   ],
   "source": [
    "from datetime import datetime as dt\n",
    "\n",
    "# Takes a date as a string, and returns a Python datetime object. \n",
    "# If there is no date given, returns None\n",
    "def parse_date(date):\n",
    "    if date == '':\n",
    "        return None\n",
    "    else:\n",
    "        return dt.strptime(date, '%Y-%m-%d')\n",
    "    \n",
    "# Takes a string which is either an empty string or represents an integer,\n",
    "# and returns an int or None.\n",
    "def parse_maybe_int(i):\n",
    "    if i == '':\n",
    "        return None\n",
    "    else:\n",
    "        return int(i)\n",
    "\n",
    "# Clean up the data types in the enrollments table\n",
    "for enrollment in enrollments:\n",
    "    enrollment['cancel_date'] = parse_date(enrollment['cancel_date'])\n",
    "    enrollment['days_to_cancel'] = parse_maybe_int(enrollment['days_to_cancel'])\n",
    "    enrollment['is_canceled'] = enrollment['is_canceled'] == 'True'\n",
    "    enrollment['is_udacity'] = enrollment['is_udacity'] == 'True'\n",
    "    enrollment['join_date'] = parse_date(enrollment['join_date'])\n",
    "    \n",
    "enrollments[0]"
   ]
  },
  {
   "cell_type": "code",
   "execution_count": 4,
   "metadata": {},
   "outputs": [
    {
     "data": {
      "text/plain": [
       "{'acct': '0',\n",
       " 'lessons_completed': 0,\n",
       " 'num_courses_visited': 1,\n",
       " 'projects_completed': 0,\n",
       " 'total_minutes_visited': 11.6793745,\n",
       " 'utc_date': datetime.datetime(2015, 1, 9, 0, 0)}"
      ]
     },
     "execution_count": 4,
     "metadata": {},
     "output_type": "execute_result"
    }
   ],
   "source": [
    "# Clean up the data types in the engagement table\n",
    "for engagement_record in daily_engagement:\n",
    "    engagement_record['lessons_completed'] = int(float(engagement_record['lessons_completed']))\n",
    "    engagement_record['num_courses_visited'] = int(float(engagement_record['num_courses_visited']))\n",
    "    engagement_record['projects_completed'] = int(float(engagement_record['projects_completed']))\n",
    "    engagement_record['total_minutes_visited'] = float(engagement_record['total_minutes_visited'])\n",
    "    engagement_record['utc_date'] = parse_date(engagement_record['utc_date'])\n",
    "    \n",
    "daily_engagement[0]"
   ]
  },
  {
   "cell_type": "code",
   "execution_count": 5,
   "metadata": {},
   "outputs": [
    {
     "data": {
      "text/plain": [
       "{'account_key': '256',\n",
       " 'assigned_rating': 'UNGRADED',\n",
       " 'completion_date': datetime.datetime(2015, 1, 16, 0, 0),\n",
       " 'creation_date': datetime.datetime(2015, 1, 14, 0, 0),\n",
       " 'lesson_key': '3176718735',\n",
       " 'processing_state': 'EVALUATED'}"
      ]
     },
     "execution_count": 5,
     "metadata": {},
     "output_type": "execute_result"
    }
   ],
   "source": [
    "# Clean up the data types in the submissions table\n",
    "for submission in project_submissions:\n",
    "    submission['completion_date'] = parse_date(submission['completion_date'])\n",
    "    submission['creation_date'] = parse_date(submission['creation_date'])\n",
    "\n",
    "project_submissions[0]"
   ]
  },
  {
   "cell_type": "markdown",
   "metadata": {},
   "source": [
    "Note when running the above cells that we are actively changing the contents of our data variables. If you try to run these cells multiple times in the same session, an error will occur.\n",
    "\n",
    "## Investigating the Data"
   ]
  },
  {
   "cell_type": "code",
   "execution_count": 6,
   "metadata": {},
   "outputs": [
    {
     "name": "stdout",
     "output_type": "stream",
     "text": [
      "Number of rows in the enrollment table: 1640\n",
      "Number of rows in the daily_engagement table: 136240\n",
      "Number of rows in the project_submissions table: 3642\n",
      "Number of unique students in the enrollment table: 1302\n",
      "Number of unique students in the daily_engagement table: 1237\n",
      "Number of unique students in the project_submissions table: 743\n"
     ]
    }
   ],
   "source": [
    "#####################################\n",
    "#                 2                 #\n",
    "#####################################\n",
    "\n",
    "## Find the total number of rows and the number of unique students (account keys)\n",
    "## in each table.\n",
    "print('Number of rows in the enrollment table: ' + str(len(enrollments)))\n",
    "print('Number of rows in the daily_engagement table: ' + str(len(daily_engagement)))\n",
    "print('Number of rows in the project_submissions table: ' + str(len(project_submissions)))\n",
    "\n",
    "enrollments_uniquestu = []\n",
    "for a in enrollments:\n",
    "     enrollments_uniquestu.append(a['account_key'])\n",
    "print('Number of unique students in the enrollment table: ' + str(len(set(enrollments_uniquestu))))\n",
    "\n",
    "daily_engagement_uniquestu = []\n",
    "for b in daily_engagement:\n",
    "     daily_engagement_uniquestu.append(b['acct'])\n",
    "print('Number of unique students in the daily_engagement table: ' + str(len(set(daily_engagement_uniquestu))))\n",
    "\n",
    "project_submissions_uniquestu = []\n",
    "for c in project_submissions:\n",
    "     project_submissions_uniquestu.append(c['account_key'])\n",
    "print('Number of unique students in the project_submissions table: ' + str(len(set(project_submissions_uniquestu))))"
   ]
  },
  {
   "cell_type": "markdown",
   "metadata": {},
   "source": [
    "## Problems in the Data"
   ]
  },
  {
   "cell_type": "code",
   "execution_count": 7,
   "metadata": {
    "collapsed": true
   },
   "outputs": [],
   "source": [
    "#####################################\n",
    "#                 3                 #\n",
    "#####################################\n",
    "\n",
    "## Rename the \"acct\" column in the daily_engagement table to \"account_key\".\n",
    "for engagement in daily_engagement:\n",
    "    removed_item = engagement.pop('acct')\n",
    "    engagement['account_key'] = removed_item"
   ]
  },
  {
   "cell_type": "code",
   "execution_count": 8,
   "metadata": {},
   "outputs": [
    {
     "data": {
      "text/plain": [
       "'0'"
      ]
     },
     "execution_count": 8,
     "metadata": {},
     "output_type": "execute_result"
    }
   ],
   "source": [
    "daily_engagement[0]['account_key']"
   ]
  },
  {
   "cell_type": "markdown",
   "metadata": {},
   "source": [
    "## Missing Engagement Records"
   ]
  },
  {
   "cell_type": "code",
   "execution_count": 9,
   "metadata": {},
   "outputs": [
    {
     "data": {
      "text/plain": [
       "1"
      ]
     },
     "execution_count": 9,
     "metadata": {},
     "output_type": "execute_result"
    }
   ],
   "source": [
    "#####################################\n",
    "#                 4                 #\n",
    "#####################################\n",
    "\n",
    "## Find any one student enrollments where the student is missing from the daily engagement table.\n",
    "## Output that enrollment.\n",
    "missing_engagement_records = []\n",
    "for uniquestu in set(enrollments_uniquestu):\n",
    "    if uniquestu not in set(daily_engagement_uniquestu): \n",
    "        missing_engagement_records.append(uniquestu)\n",
    "        break\n",
    "len(missing_engagement_records)"
   ]
  },
  {
   "cell_type": "code",
   "execution_count": 10,
   "metadata": {
    "scrolled": true
   },
   "outputs": [
    {
     "name": "stdout",
     "output_type": "stream",
     "text": [
      "{'days_to_cancel': 0, 'status': 'canceled', 'account_key': '789', 'is_udacity': False, 'join_date': datetime.datetime(2015, 2, 6, 0, 0), 'cancel_date': datetime.datetime(2015, 2, 6, 0, 0), 'is_canceled': True}\n"
     ]
    }
   ],
   "source": [
    "for enrollment_records in enrollments:\n",
    "    if enrollment_records['account_key'] == missing_engagement_records[0]:\n",
    "        print (enrollment_records)\n",
    "        break"
   ]
  },
  {
   "cell_type": "code",
   "execution_count": 11,
   "metadata": {},
   "outputs": [
    {
     "name": "stdout",
     "output_type": "stream",
     "text": [
      "{'days_to_cancel': 0, 'status': 'canceled', 'account_key': '1219', 'is_udacity': False, 'join_date': datetime.datetime(2014, 11, 12, 0, 0), 'cancel_date': datetime.datetime(2014, 11, 12, 0, 0), 'is_canceled': True}\n"
     ]
    }
   ],
   "source": [
    "for enrollment in enrollments:\n",
    "    student = enrollment['account_key']\n",
    "    if student not in set(daily_engagement_uniquestu):\n",
    "        print(enrollment)\n",
    "        break"
   ]
  },
  {
   "cell_type": "code",
   "execution_count": 12,
   "metadata": {
    "collapsed": true
   },
   "outputs": [],
   "source": [
    "# number of students canceled within one day\n",
    "students_num_cancel_oneday = []\n",
    "new_enrollments = []\n",
    "for enrollment in enrollments:\n",
    "    student = enrollment['account_key']\n",
    "    if student not in set(daily_engagement_uniquestu):\n",
    "        students_num_cancel_oneday.append(student)\n",
    "    else: \n",
    "        new_enrollments.append(enrollment)"
   ]
  },
  {
   "cell_type": "code",
   "execution_count": 13,
   "metadata": {},
   "outputs": [
    {
     "data": {
      "text/plain": [
       "1237"
      ]
     },
     "execution_count": 13,
     "metadata": {},
     "output_type": "execute_result"
    }
   ],
   "source": [
    "unique_students = set()\n",
    "for enrollment in new_enrollments:\n",
    "    unique_students.add(enrollment['account_key'])\n",
    "len(unique_students)"
   ]
  },
  {
   "cell_type": "code",
   "execution_count": 14,
   "metadata": {},
   "outputs": [
    {
     "name": "stdout",
     "output_type": "stream",
     "text": [
      "{'days_to_cancel': 59, 'status': 'canceled', 'account_key': '1304', 'is_udacity': True, 'join_date': datetime.datetime(2015, 1, 10, 0, 0), 'cancel_date': datetime.datetime(2015, 3, 10, 0, 0), 'is_canceled': True}\n",
      "{'days_to_cancel': 99, 'status': 'canceled', 'account_key': '1304', 'is_udacity': True, 'join_date': datetime.datetime(2015, 3, 10, 0, 0), 'cancel_date': datetime.datetime(2015, 6, 17, 0, 0), 'is_canceled': True}\n",
      "{'days_to_cancel': None, 'status': 'current', 'account_key': '1101', 'is_udacity': True, 'join_date': datetime.datetime(2015, 2, 25, 0, 0), 'cancel_date': None, 'is_canceled': False}\n"
     ]
    }
   ],
   "source": [
    "for enrollment in enrollments:\n",
    "    student = enrollment['account_key']\n",
    "    if student not in set(daily_engagement_uniquestu) and enrollment['join_date'] != enrollment['cancel_date']:\n",
    "        print(enrollment)        "
   ]
  },
  {
   "cell_type": "markdown",
   "metadata": {},
   "source": [
    "## Checking for More Problem Records"
   ]
  },
  {
   "cell_type": "code",
   "execution_count": 15,
   "metadata": {
    "collapsed": true
   },
   "outputs": [],
   "source": [
    "#####################################\n",
    "#                 5                 #\n",
    "#####################################\n",
    "\n",
    "## Find the number of surprising data points (enrollments missing from\n",
    "## the engagement table) that remain, if any."
   ]
  },
  {
   "cell_type": "markdown",
   "metadata": {},
   "source": [
    "## Tracking Down the Remaining Problems"
   ]
  },
  {
   "cell_type": "code",
   "execution_count": 16,
   "metadata": {},
   "outputs": [
    {
     "data": {
      "text/plain": [
       "6"
      ]
     },
     "execution_count": 16,
     "metadata": {},
     "output_type": "execute_result"
    }
   ],
   "source": [
    "# Create a set of the account keys for all Udacity test accounts\n",
    "udacity_test_accounts = set()\n",
    "for enrollment in enrollments:\n",
    "    if enrollment['is_udacity']:\n",
    "        udacity_test_accounts.add(enrollment['account_key'])\n",
    "len(udacity_test_accounts)"
   ]
  },
  {
   "cell_type": "code",
   "execution_count": 17,
   "metadata": {
    "collapsed": true
   },
   "outputs": [],
   "source": [
    "# Given some data with an account_key field, removes any records corresponding to Udacity test accounts\n",
    "def remove_udacity_accounts(data):\n",
    "    non_udacity_data = []\n",
    "    for data_point in data:\n",
    "        if data_point['account_key'] not in udacity_test_accounts:\n",
    "            non_udacity_data.append(data_point)\n",
    "    return non_udacity_data"
   ]
  },
  {
   "cell_type": "code",
   "execution_count": 18,
   "metadata": {},
   "outputs": [
    {
     "name": "stdout",
     "output_type": "stream",
     "text": [
      "1622\n",
      "135656\n",
      "3634\n"
     ]
    }
   ],
   "source": [
    "# Remove Udacity test accounts from all three tables\n",
    "non_udacity_enrollments = remove_udacity_accounts(enrollments)\n",
    "non_udacity_engagement = remove_udacity_accounts(daily_engagement)\n",
    "non_udacity_submissions = remove_udacity_accounts(project_submissions)\n",
    "\n",
    "print (len(non_udacity_enrollments))\n",
    "print (len(non_udacity_engagement))\n",
    "print (len(non_udacity_submissions))"
   ]
  },
  {
   "cell_type": "markdown",
   "metadata": {},
   "source": [
    "## Refining the Question"
   ]
  },
  {
   "cell_type": "code",
   "execution_count": 19,
   "metadata": {},
   "outputs": [
    {
     "data": {
      "text/plain": [
       "995"
      ]
     },
     "execution_count": 19,
     "metadata": {},
     "output_type": "execute_result"
    }
   ],
   "source": [
    "#####################################\n",
    "#                 6                 #\n",
    "#####################################\n",
    "\n",
    "## Create a dictionary named paid_students containing all students who either\n",
    "## haven't canceled yet or who remained enrolled for more than 7 days. The keys\n",
    "## should be account keys, and the values should be the date the student enrolled.\n",
    "\n",
    "paid_students = {}\n",
    "for enrollment in non_udacity_enrollments:\n",
    "    if enrollment['days_to_cancel'] == None:\n",
    "        paid_students[enrollment['account_key']] = enrollment['join_date']\n",
    "    elif  enrollment['days_to_cancel'] > 7:\n",
    "        paid_students[enrollment['account_key']] = enrollment['join_date']\n",
    "\n",
    "len(paid_students)     "
   ]
  },
  {
   "cell_type": "code",
   "execution_count": 20,
   "metadata": {},
   "outputs": [
    {
     "data": {
      "text/plain": [
       "995"
      ]
     },
     "execution_count": 20,
     "metadata": {},
     "output_type": "execute_result"
    }
   ],
   "source": [
    "## A better way to solve above \n",
    "\n",
    "paid_students = {}\n",
    "for enrollment in non_udacity_enrollments:\n",
    "    if not enrollment['is_canceled'] or enrollment['days_to_cancel'] > 7:\n",
    "        account_key = enrollment['account_key']\n",
    "        enrollment_date = enrollment['join_date']\n",
    "        \n",
    "        # Changed what enrollment date was saved for each student\n",
    "        if account_key not in paid_students or enrollment_date > paid_students[account_key]:\n",
    "            paid_students[account_key] = enrollment_date\n",
    "        \n",
    "len(paid_students)\n",
    "\n",
    "## Question: are the students in the dict unique? "
   ]
  },
  {
   "cell_type": "markdown",
   "metadata": {},
   "source": [
    "## Getting Data from First Week"
   ]
  },
  {
   "cell_type": "code",
   "execution_count": 21,
   "metadata": {
    "collapsed": true
   },
   "outputs": [],
   "source": [
    "# Takes a student's join date and the date of a specific engagement record,\n",
    "# and returns True if that engagement record happened within one week\n",
    "# of the student joining.\n",
    "def within_one_week(join_date, engagement_date):\n",
    "    time_delta = engagement_date - join_date\n",
    "    return time_delta.days < 7 and time_delta.days >= 0"
   ]
  },
  {
   "cell_type": "code",
   "execution_count": 22,
   "metadata": {},
   "outputs": [
    {
     "data": {
      "text/plain": [
       "6919"
      ]
     },
     "execution_count": 22,
     "metadata": {},
     "output_type": "execute_result"
    }
   ],
   "source": [
    "#####################################\n",
    "#                 7                 #\n",
    "#####################################\n",
    "\n",
    "## Create a list of rows from the engagement table including only rows where\n",
    "## the student is one of the paid students you just found, and the date is within\n",
    "## one week of the student's join date.\n",
    "\n",
    "paid_engagement_in_first_week = []\n",
    "for engagement in non_udacity_engagement:\n",
    "    if engagement['account_key'] in paid_students and within_one_week(paid_students[engagement['account_key']], engagement['utc_date']):\n",
    "        paid_engagement_in_first_week.append(engagement)\n",
    "\n",
    "len(paid_engagement_in_first_week)"
   ]
  },
  {
   "cell_type": "code",
   "execution_count": 23,
   "metadata": {
    "collapsed": true
   },
   "outputs": [],
   "source": [
    "# Another way to solve the above PART 1\n",
    "# Define a function to removed non-paid records\n",
    "\n",
    "def remove_free_trial_cancels(data):\n",
    "    new_data = []\n",
    "    for data_point in data:\n",
    "        if data_point['account_key'] in paid_students:\n",
    "            new_data.append(data_point)\n",
    "    return new_data"
   ]
  },
  {
   "cell_type": "code",
   "execution_count": 24,
   "metadata": {},
   "outputs": [
    {
     "name": "stdout",
     "output_type": "stream",
     "text": [
      "1293\n",
      "134549\n",
      "3618\n"
     ]
    }
   ],
   "source": [
    "# Another way to solve the above PART 2\n",
    "# Remove non-paid records/ free-trial records in three tables\n",
    "\n",
    "paid_enrollments = remove_free_trial_cancels(non_udacity_enrollments)\n",
    "paid_engagement = remove_free_trial_cancels(non_udacity_engagement)\n",
    "paid_submissions = remove_free_trial_cancels(non_udacity_submissions)\n",
    "\n",
    "print (len(paid_enrollments))\n",
    "print (len(paid_engagement))\n",
    "print (len(paid_submissions))"
   ]
  },
  {
   "cell_type": "code",
   "execution_count": 25,
   "metadata": {},
   "outputs": [
    {
     "data": {
      "text/plain": [
       "6919"
      ]
     },
     "execution_count": 25,
     "metadata": {},
     "output_type": "execute_result"
    }
   ],
   "source": [
    "# Another way to solve the above PART 3\n",
    "# Tip: Easier to read while assign values to function variables\n",
    "\n",
    "paid_engagement_in_first_week = []\n",
    "\n",
    "for engagement_record in paid_engagement:\n",
    "    account_key = engagement_record['account_key']\n",
    "    join_date = paid_students[account_key]\n",
    "    engagement_record_date = engagement_record['utc_date']\n",
    "    if within_one_week(join_date, engagement_record_date):\n",
    "        paid_engagement_in_first_week.append(engagement_record)\n",
    "\n",
    "len(paid_engagement_in_first_week)"
   ]
  },
  {
   "cell_type": "markdown",
   "metadata": {},
   "source": [
    "## Exploring Student Engagement"
   ]
  },
  {
   "cell_type": "code",
   "execution_count": 26,
   "metadata": {},
   "outputs": [
    {
     "name": "stdout",
     "output_type": "stream",
     "text": [
      "[]\n"
     ]
    }
   ],
   "source": [
    "from collections import defaultdict\n",
    "\n",
    "# Create a dictionary of engagement grouped by student.\n",
    "# The keys are account keys, and the values are lists of engagement records.\n",
    "engagement_by_account = defaultdict(list)\n",
    "for engagement_record in paid_engagement_in_first_week:\n",
    "    account_key = engagement_record['account_key']\n",
    "    engagement_by_account[account_key].append(engagement_record)\n",
    "\n",
    "print(engagement_by_account[0])"
   ]
  },
  {
   "cell_type": "code",
   "execution_count": 27,
   "metadata": {
    "collapsed": true
   },
   "outputs": [],
   "source": [
    "# Create a dictionary with the total minutes each student spent in the classroom during the first week.\n",
    "# The keys are account keys, and the values are numbers (total minutes)\n",
    "total_minutes_by_account = {}\n",
    "for account_key, engagement_for_student in engagement_by_account.items():\n",
    "    total_minutes = 0\n",
    "    for engagement_record in engagement_for_student:\n",
    "        total_minutes += engagement_record['total_minutes_visited']\n",
    "    total_minutes_by_account[account_key] = total_minutes"
   ]
  },
  {
   "cell_type": "code",
   "execution_count": 28,
   "metadata": {},
   "outputs": [
    {
     "name": "stdout",
     "output_type": "stream",
     "text": [
      "Mean: 306.400386666\n",
      "Standard deviation: 412.903824751\n",
      "Minimum: 0.0\n",
      "Maximum: 3564.7332645\n",
      "Search Max: 3564.7332645\n"
     ]
    }
   ],
   "source": [
    "import numpy as np\n",
    "\n",
    "# Summarize the data about minutes spent in the classroom\n",
    "# total_minutes = total_minutes_by_account.values()\n",
    "total_minutes = list(total_minutes_by_account.values())\n",
    "print ('Mean:', np.mean(total_minutes))\n",
    "print ('Standard deviation:', np.std(total_minutes))\n",
    "print ('Minimum:', np.min(total_minutes))\n",
    "print ('Maximum:', np.max(total_minutes))\n",
    "search_max = np.max(total_minutes)\n",
    "print('Search Max:', search_max)"
   ]
  },
  {
   "cell_type": "markdown",
   "metadata": {},
   "source": [
    "## Debugging Data Analysis Code"
   ]
  },
  {
   "cell_type": "code",
   "execution_count": 29,
   "metadata": {},
   "outputs": [
    {
     "name": "stdout",
     "output_type": "stream",
     "text": [
      "3564.7332644989997\n",
      "163\n",
      "[{'total_minutes_visited': 850.519339666, 'account_key': '163', 'num_courses_visited': 4, 'utc_date': datetime.datetime(2015, 7, 9, 0, 0), 'lessons_completed': 4, 'projects_completed': 0}, {'total_minutes_visited': 872.633923334, 'account_key': '163', 'num_courses_visited': 6, 'utc_date': datetime.datetime(2015, 7, 10, 0, 0), 'lessons_completed': 6, 'projects_completed': 0}, {'total_minutes_visited': 777.018903666, 'account_key': '163', 'num_courses_visited': 2, 'utc_date': datetime.datetime(2015, 7, 11, 0, 0), 'lessons_completed': 6, 'projects_completed': 0}, {'total_minutes_visited': 294.568774, 'account_key': '163', 'num_courses_visited': 1, 'utc_date': datetime.datetime(2015, 7, 12, 0, 0), 'lessons_completed': 2, 'projects_completed': 0}, {'total_minutes_visited': 471.2139785, 'account_key': '163', 'num_courses_visited': 3, 'utc_date': datetime.datetime(2015, 7, 13, 0, 0), 'lessons_completed': 1, 'projects_completed': 0}, {'total_minutes_visited': 298.778345333, 'account_key': '163', 'num_courses_visited': 2, 'utc_date': datetime.datetime(2015, 7, 14, 0, 0), 'lessons_completed': 1, 'projects_completed': 0}, {'total_minutes_visited': 0.0, 'account_key': '163', 'num_courses_visited': 0, 'utc_date': datetime.datetime(2015, 7, 15, 0, 0), 'lessons_completed': 0, 'projects_completed': 0}]\n"
     ]
    }
   ],
   "source": [
    "#####################################\n",
    "#                 8                 #\n",
    "#####################################\n",
    "\n",
    "## Go through a similar process as before to see if there is a problem.\n",
    "## Locate at least one surprising piece of data, output it, and take a look at it.\n",
    "\n",
    "for total_minutes_key, total_minutes_value in total_minutes_by_account.items():\n",
    "    if total_minutes_value == search_max:\n",
    "        print(total_minutes_value)\n",
    "        print(total_minutes_key)\n",
    "        search_max_account = total_minutes_key\n",
    "        \n",
    "for key, value in engagement_by_account.items():\n",
    "    if key == search_max_account:\n",
    "        print (value)"
   ]
  },
  {
   "cell_type": "markdown",
   "metadata": {},
   "source": [
    "## Lessons Completed in First Week"
   ]
  },
  {
   "cell_type": "code",
   "execution_count": 30,
   "metadata": {
    "collapsed": true
   },
   "outputs": [],
   "source": [
    "#####################################\n",
    "#                 9                 #\n",
    "#####################################\n",
    "\n",
    "## Adapt the code above to find the mean, standard deviation, minimum, and maximum for\n",
    "## the number of lessons completed by each student during the first week. Try creating\n",
    "## one or more functions to re-use the code above.\n",
    "# engagement_by_account\n",
    "\n",
    "total_lessons_by_account = {}\n",
    "for account_key, engagement_for_student in engagement_by_account.items():\n",
    "    total_lessons = 0\n",
    "    for engagement_record in engagement_for_student:\n",
    "        total_lessons += engagement_record['lessons_completed']\n",
    "    total_lessons_by_account[account_key] = total_lessons"
   ]
  },
  {
   "cell_type": "code",
   "execution_count": 31,
   "metadata": {},
   "outputs": [
    {
     "name": "stdout",
     "output_type": "stream",
     "text": [
      "Mean:  1.63453815261\n",
      "Standard Deviation:  3.0015009444\n",
      "Min:  0\n",
      "Max:  36\n"
     ]
    }
   ],
   "source": [
    "import numpy as np\n",
    "\n",
    "total_lessons = list(total_lessons_by_account.values())\n",
    "print('Mean: ', np.mean(total_lessons))\n",
    "print('Standard Deviation: ', np.std(total_lessons))\n",
    "print('Min: ', np.min(total_lessons))\n",
    "print('Max: ', np.max(total_lessons))"
   ]
  },
  {
   "cell_type": "code",
   "execution_count": 32,
   "metadata": {},
   "outputs": [
    {
     "name": "stdout",
     "output_type": "stream",
     "text": [
      "[]\n"
     ]
    }
   ],
   "source": [
    "## Use function to solve previous problems PART I\n",
    "\n",
    "from collections import defaultdict\n",
    "\n",
    "def group_data(data, key_name):\n",
    "    grouped_data = defaultdict(list)\n",
    "    for data_point in data:\n",
    "        key = data_point[key_name]\n",
    "        grouped_data[key].append(data_point)\n",
    "    return grouped_data\n",
    "        \n",
    "engagement_by_account = group_data(paid_engagement_in_first_week, 'account_key')\n",
    "print(engagement_by_account[0])"
   ]
  },
  {
   "cell_type": "code",
   "execution_count": 33,
   "metadata": {},
   "outputs": [
    {
     "name": "stdout",
     "output_type": "stream",
     "text": [
      "0\n"
     ]
    }
   ],
   "source": [
    "# Use function to solve previous problems PART II\n",
    "\n",
    "def sum_grouped_items(grouped_data, field_name):\n",
    "    summed_data = {}\n",
    "    for key, data_points in grouped_data.items():\n",
    "        total = 0\n",
    "        for data_point in data_points:\n",
    "            total += data_point[field_name]\n",
    "        summed_data[key] = total\n",
    "    return summed_data\n",
    "        \n",
    "total_lessons_by_account = sum_grouped_items(engagement_by_account,  'lessons_completed')  \n",
    "print(total_lessons_by_account[0])"
   ]
  },
  {
   "cell_type": "code",
   "execution_count": 34,
   "metadata": {},
   "outputs": [
    {
     "name": "stdout",
     "output_type": "stream",
     "text": [
      "Mean:  1.63453815261\n",
      "Standard Deviation:  3.0015009444\n",
      "Min:  0\n",
      "Max:  36\n"
     ]
    }
   ],
   "source": [
    "# Use function to solve previous problems PART III\n",
    "\n",
    "import numpy as np\n",
    "\n",
    "def describe_data(data):   \n",
    "    print('Mean: ', np.mean(data))\n",
    "    print('Standard Deviation: ', np.std(data))\n",
    "    print('Min: ', np.min(data))\n",
    "    print('Max: ', np.max(data))\n",
    "    \n",
    "total_lessons = list(total_lessons_by_account.values())\n",
    "describe_data(total_lessons)"
   ]
  },
  {
   "cell_type": "markdown",
   "metadata": {},
   "source": [
    "## Number of Visits in First Week"
   ]
  },
  {
   "cell_type": "code",
   "execution_count": 35,
   "metadata": {},
   "outputs": [
    {
     "name": "stdout",
     "output_type": "stream",
     "text": [
      "Mean:  2.86445783133\n",
      "Standard Deviation:  2.25589406653\n",
      "Min:  0\n",
      "Max:  7\n"
     ]
    }
   ],
   "source": [
    "######################################\n",
    "#                 10                 #\n",
    "######################################\n",
    "\n",
    "## Find the mean, standard deviation, minimum, and maximum for the number of\n",
    "## days each student visits the classroom during the first week.\n",
    "# add a field to grouped_data engagement_by_account has_visited 1 or 0\n",
    "\n",
    "for account_key, engagement_student in engagement_by_account.items():\n",
    "    for engagement_record in engagement_student:\n",
    "        if engagement_record['num_courses_visited'] > 0:\n",
    "            engagement_record['has_visited'] = 1\n",
    "        elif engagement_record['num_courses_visited'] == 0 :\n",
    "            engagement_record['has_visited'] = 0\n",
    "\n",
    "total_days_visitedcourses_by_account = sum_grouped_items(engagement_by_account, 'has_visited')\n",
    "\n",
    "total_days_visitedcourses = list(total_days_visitedcourses_by_account.values())\n",
    "describe_data(total_days_visitedcourses)"
   ]
  },
  {
   "cell_type": "markdown",
   "metadata": {},
   "source": [
    "## Splitting out Passing Students"
   ]
  },
  {
   "cell_type": "code",
   "execution_count": 36,
   "metadata": {},
   "outputs": [
    {
     "data": {
      "text/plain": [
       "{'account_key': '256',\n",
       " 'assigned_rating': 'UNGRADED',\n",
       " 'completion_date': datetime.datetime(2015, 1, 16, 0, 0),\n",
       " 'creation_date': datetime.datetime(2015, 1, 14, 0, 0),\n",
       " 'lesson_key': '3176718735',\n",
       " 'processing_state': 'EVALUATED'}"
      ]
     },
     "execution_count": 36,
     "metadata": {},
     "output_type": "execute_result"
    }
   ],
   "source": [
    "paid_submissions[0]"
   ]
  },
  {
   "cell_type": "code",
   "execution_count": 37,
   "metadata": {},
   "outputs": [
    {
     "data": {
      "text/plain": [
       "{'account_key': '0',\n",
       " 'has_visited': 1,\n",
       " 'lessons_completed': 0,\n",
       " 'num_courses_visited': 1,\n",
       " 'projects_completed': 0,\n",
       " 'total_minutes_visited': 11.6793745,\n",
       " 'utc_date': datetime.datetime(2015, 1, 9, 0, 0)}"
      ]
     },
     "execution_count": 37,
     "metadata": {},
     "output_type": "execute_result"
    }
   ],
   "source": [
    "paid_engagement_in_first_week[0]"
   ]
  },
  {
   "cell_type": "code",
   "execution_count": 38,
   "metadata": {},
   "outputs": [
    {
     "name": "stdout",
     "output_type": "stream",
     "text": [
      "647\n",
      "4527\n",
      "2392\n"
     ]
    }
   ],
   "source": [
    "######################################\n",
    "#                 11                 #\n",
    "######################################\n",
    "\n",
    "## Create two lists of engagement data for paid students in the first week.\n",
    "## The first list should contain data for students who eventually pass the\n",
    "## subway project, and the second list should contain data for students\n",
    "## who do not.\n",
    "# paid_submissions\n",
    "# paid_engagement_in_first_week\n",
    "# engagement_by_account = group_data(paid_engagement_in_first_week, 'account_key')\n",
    "# engagement_by_account\n",
    "\n",
    "subway_project_lesson_keys = ['746169184', '3176718735']\n",
    "\n",
    "account_key_list = []\n",
    "account_key_list_notpass = []\n",
    "for paid_submission in paid_submissions:\n",
    "    if paid_submission['lesson_key'] in subway_project_lesson_keys:\n",
    "        if paid_submission['assigned_rating'] == 'PASSED' or paid_submission['assigned_rating'] == 'DISTINCTION':\n",
    "            account_key_list.append(paid_submission['account_key'])\n",
    "\n",
    "\"\"\"for paid_submission in paid_submissions:\n",
    "    if paid_submission['lesson_key'] in subway_project_lesson_keys:\n",
    "        if paid_submission['assigned_rating'] != 'PASSED' and paid_submission['account_key'] not in account_key_list:\n",
    "                account_key_list_notpass.append(paid_submission['account_key'])\"\"\"\n",
    "            \n",
    "\n",
    "passing_engagement = []\n",
    "non_passing_engagement = []\n",
    "\n",
    "for engagement_record in paid_engagement_in_first_week:\n",
    "    if engagement_record['account_key'] in set(account_key_list):\n",
    "        passing_engagement.append(engagement_record)\n",
    "    elif engagement_record['account_key'] not in account_key_list:\n",
    "        non_passing_engagement.append(engagement_record)\n",
    "\n",
    "#print(account_key_list[0: 100])\n",
    "#print(account_key_list_notpass)\n",
    "#print(len(paid_submissions))\n",
    "#print(len(paid_engagement_in_first_week))\n",
    "#print(len(engagement_by_account))\n",
    "print(len(set(account_key_list)))\n",
    "#print(len(account_key_list_notpass))\n",
    "print(len(passing_engagement))\n",
    "print(len(non_passing_engagement))"
   ]
  },
  {
   "cell_type": "code",
   "execution_count": 39,
   "metadata": {},
   "outputs": [
    {
     "name": "stdout",
     "output_type": "stream",
     "text": [
      "{'', 'DISTINCTION', 'INCOMPLETE', 'PASSED', 'UNGRADED'}\n"
     ]
    }
   ],
   "source": [
    "assigned_rating_set = set()\n",
    "for paid_submission in paid_submissions:\n",
    "    assigned_rating_set.add(paid_submission['assigned_rating'])\n",
    "print(assigned_rating_set)"
   ]
  },
  {
   "cell_type": "code",
   "execution_count": 40,
   "metadata": {},
   "outputs": [
    {
     "data": {
      "text/plain": [
       "{'account_key': '0',\n",
       " 'has_visited': 1,\n",
       " 'lessons_completed': 0,\n",
       " 'num_courses_visited': 1,\n",
       " 'projects_completed': 0,\n",
       " 'total_minutes_visited': 11.6793745,\n",
       " 'utc_date': datetime.datetime(2015, 1, 9, 0, 0)}"
      ]
     },
     "execution_count": 40,
     "metadata": {},
     "output_type": "execute_result"
    }
   ],
   "source": [
    "passing_engagement[0]"
   ]
  },
  {
   "cell_type": "code",
   "execution_count": 41,
   "metadata": {},
   "outputs": [
    {
     "data": {
      "text/plain": [
       "{'account_key': '0',\n",
       " 'has_visited': 1,\n",
       " 'lessons_completed': 0,\n",
       " 'num_courses_visited': 1,\n",
       " 'projects_completed': 0,\n",
       " 'total_minutes_visited': 11.6793745,\n",
       " 'utc_date': datetime.datetime(2015, 1, 9, 0, 0)}"
      ]
     },
     "execution_count": 41,
     "metadata": {},
     "output_type": "execute_result"
    }
   ],
   "source": [
    "paid_engagement_in_first_week[0]"
   ]
  },
  {
   "cell_type": "markdown",
   "metadata": {},
   "source": [
    "## Comparing the Two Student Groups"
   ]
  },
  {
   "cell_type": "code",
   "execution_count": 42,
   "metadata": {
    "collapsed": true
   },
   "outputs": [],
   "source": [
    "######################################\n",
    "#                 12                 #\n",
    "######################################\n",
    "\n",
    "## Compute some metrics you're interested in and see how they differ for\n",
    "## students who pass the subway project vs. students who don't. A good\n",
    "## starting point would be the metrics we looked at earlier (minutes spent\n",
    "## in the classroom, lessons completed, and days visited)."
   ]
  },
  {
   "cell_type": "code",
   "execution_count": 43,
   "metadata": {
    "collapsed": true
   },
   "outputs": [],
   "source": [
    "# engagement_by_account = group_data(paid_engagement_in_first_week, 'account_key')\n",
    "\n",
    "from collections import defaultdict\n",
    "\n",
    "def group_data(data, key_name):\n",
    "    grouped_data = defaultdict(list)\n",
    "    for data_point in data:\n",
    "        key = data_point[key_name]\n",
    "        grouped_data[key].append(data_point)\n",
    "    return grouped_data"
   ]
  },
  {
   "cell_type": "code",
   "execution_count": 44,
   "metadata": {
    "collapsed": true
   },
   "outputs": [],
   "source": [
    "def sum_grouped_items(grouped_data, field_name):\n",
    "    summed_data = {}\n",
    "    for key, data_points in grouped_data.items():\n",
    "        total = 0\n",
    "        for data_point in data_points:\n",
    "            total += data_point[field_name]\n",
    "        summed_data[key] = total\n",
    "    return summed_data"
   ]
  },
  {
   "cell_type": "code",
   "execution_count": 45,
   "metadata": {
    "collapsed": true
   },
   "outputs": [],
   "source": [
    "import numpy as np\n",
    "\n",
    "def describe_data(data):   \n",
    "    print('Mean: ', np.mean(data))\n",
    "    print('Standard Deviation: ', np.std(data))\n",
    "    print('Min: ', np.min(data))\n",
    "    print('Max: ', np.max(data))"
   ]
  },
  {
   "cell_type": "code",
   "execution_count": 63,
   "metadata": {},
   "outputs": [
    {
     "name": "stdout",
     "output_type": "stream",
     "text": [
      "Mean:  394.586046484\n",
      "Standard Deviation:  448.499519327\n",
      "Min:  0.0\n",
      "Max:  3564.7332645\n"
     ]
    }
   ],
   "source": [
    "# minutes spent in the classroom\n",
    "# group_data(data, key_name)\n",
    "# sum_grouped_items(grouped_data, field_name)\n",
    "# describe_data(data)\n",
    "\n",
    "\n",
    "\n",
    "passing_engagement_by_account = group_data(passing_engagement, 'account_key')\n",
    "total_minutes_passing_eng_by_account = sum_grouped_items(passing_engagement_by_account, 'total_minutes_visited')\n",
    "\n",
    "total_minutes_pe = list(total_minutes_passing_eng_by_account.values())\n",
    "describe_data(total_minutes_pe)\n",
    "\n",
    "#----> 9 total_minutes_pe = list(total_minutes_passing_eng_by_account.value())\n",
    "#     10 describe_data(total_minutes_pe)\n",
    "\n",
    "# AttributeError: 'dict' object has no attribute 'value'\n",
    "\n",
    "# *** values instead of value!!!"
   ]
  },
  {
   "cell_type": "code",
   "execution_count": 64,
   "metadata": {},
   "outputs": [
    {
     "name": "stdout",
     "output_type": "stream",
     "text": [
      "Mean:  143.326474267\n",
      "Standard Deviation:  269.538619011\n",
      "Min:  0.0\n",
      "Max:  1768.52274933\n"
     ]
    }
   ],
   "source": [
    "# non_passing\n",
    "# minutes spent\n",
    "\n",
    "non_passing_engagement_by_account = group_data(non_passing_engagement, 'account_key')\n",
    "total_minutes_non_passing_eng_by_account = sum_grouped_items(non_passing_engagement_by_account, 'total_minutes_visited')\n",
    "\n",
    "total_minutes_npe = list(total_minutes_non_passing_eng_by_account.values())\n",
    "describe_data(total_minutes_npe)"
   ]
  },
  {
   "cell_type": "code",
   "execution_count": 48,
   "metadata": {
    "collapsed": true
   },
   "outputs": [],
   "source": [
    "# non_passing students spent relatively less total minutes on courses than passing students"
   ]
  },
  {
   "cell_type": "code",
   "execution_count": 66,
   "metadata": {},
   "outputs": [
    {
     "name": "stdout",
     "output_type": "stream",
     "text": [
      "Mean:  2.05255023184\n",
      "Standard Deviation:  3.14222705558\n",
      "Min:  0\n",
      "Max:  36\n"
     ]
    }
   ],
   "source": [
    "# lessons completed\n",
    "\n",
    "passing_engagement_by_account = group_data(passing_engagement, 'account_key')\n",
    "total_lessons_passing_eng_by_account = sum_grouped_items(passing_engagement_by_account, 'lessons_completed')\n",
    "\n",
    "total_lessons_pe = list(total_lessons_passing_eng_by_account.values())\n",
    "describe_data(total_lessons_pe)"
   ]
  },
  {
   "cell_type": "code",
   "execution_count": 67,
   "metadata": {},
   "outputs": [
    {
     "name": "stdout",
     "output_type": "stream",
     "text": [
      "Mean:  0.862068965517\n",
      "Standard Deviation:  2.54915994183\n",
      "Min:  0\n",
      "Max:  27\n"
     ]
    }
   ],
   "source": [
    "# non_passing\n",
    "# lessons completed\n",
    "\n",
    "non_passing_engagement_by_account = group_data(non_passing_engagement, 'account_key')\n",
    "total_lessons_non_passing_eng_by_account = sum_grouped_items(non_passing_engagement_by_account, 'lessons_completed')\n",
    "\n",
    "total_lessons_npe = list(total_lessons_non_passing_eng_by_account.values())\n",
    "describe_data(total_lessons_npe)"
   ]
  },
  {
   "cell_type": "code",
   "execution_count": 51,
   "metadata": {
    "collapsed": true
   },
   "outputs": [],
   "source": [
    "# non_passing students completed relatively less lessons than passing students"
   ]
  },
  {
   "cell_type": "code",
   "execution_count": 69,
   "metadata": {},
   "outputs": [
    {
     "name": "stdout",
     "output_type": "stream",
     "text": [
      "Mean:  3.38485316847\n",
      "Standard Deviation:  2.25882147092\n",
      "Min:  0\n",
      "Max:  7\n"
     ]
    }
   ],
   "source": [
    "# days_visited\n",
    "\n",
    "passing_engagement_by_account = group_data(passing_engagement, 'account_key')\n",
    "total_days_passing_eng_by_account = sum_grouped_items(passing_engagement_by_account, 'has_visited')\n",
    "                                                      \n",
    "total_days_pe = list(total_days_passing_eng_by_account.values())\n",
    "describe_data(total_days_pe)"
   ]
  },
  {
   "cell_type": "code",
   "execution_count": 70,
   "metadata": {},
   "outputs": [
    {
     "name": "stdout",
     "output_type": "stream",
     "text": [
      "Mean:  1.90517241379\n",
      "Standard Deviation:  1.90573144136\n",
      "Min:  0\n",
      "Max:  7\n"
     ]
    }
   ],
   "source": [
    "# non_passing\n",
    "# days_visited\n",
    "\n",
    "non_passing_engagement_by_account = group_data(non_passing_engagement, 'account_key')\n",
    "total_days_non_passing_eng_by_account = sum_grouped_items(non_passing_engagement_by_account, 'has_visited')\n",
    "                                                      \n",
    "total_days_npe = list(total_days_non_passing_eng_by_account.values())\n",
    "describe_data(total_days_npe)"
   ]
  },
  {
   "cell_type": "code",
   "execution_count": 54,
   "metadata": {
    "collapsed": true
   },
   "outputs": [],
   "source": [
    "# non_passing students spend relatively fewer days of engagement than passing students\n",
    "\n",
    "# In all, passing students group are more engaged in lessons and projects than non_passing student group."
   ]
  },
  {
   "cell_type": "markdown",
   "metadata": {},
   "source": [
    "## Making Histograms"
   ]
  },
  {
   "cell_type": "code",
   "execution_count": 55,
   "metadata": {
    "collapsed": true
   },
   "outputs": [],
   "source": [
    "######################################\n",
    "#                 13                 #\n",
    "######################################\n",
    "\n",
    "## Make histograms of the three metrics we looked at earlier for both\n",
    "## students who passed the subway project and students who didn't. You\n",
    "## might also want to make histograms of any other metrics you examined."
   ]
  },
  {
   "cell_type": "code",
   "execution_count": 58,
   "metadata": {},
   "outputs": [],
   "source": [
    "# The line %matplotlib inline is specifically for IPython notebook, and \n",
    "# causes your plots to appear in your notebook rather than a new window. \n",
    "# If you are not using IPython notebook, you should not include this line, \n",
    "# and instead you should add the line plt.show() at the bottom \n",
    "# to show the plot in a new window."
   ]
  },
  {
   "cell_type": "code",
   "execution_count": 59,
   "metadata": {},
   "outputs": [
    {
     "data": {
      "text/plain": [
       "(array([ 3.,  0.,  0.,  2.,  0.,  0.,  2.,  0.,  0.,  1.]),\n",
       " array([ 1. ,  1.3,  1.6,  1.9,  2.2,  2.5,  2.8,  3.1,  3.4,  3.7,  4. ]),\n",
       " <a list of 10 Patch objects>)"
      ]
     },
     "execution_count": 59,
     "metadata": {},
     "output_type": "execute_result"
    },
    {
     "data": {
      "image/png": "[encoded data removed]",
      "text/plain": [
       "<matplotlib.figure.Figure at 0x2bd9676b748>"
      ]
     },
     "metadata": {},
     "output_type": "display_data"
    }
   ],
   "source": [
    "# Example\n",
    "\n",
    "data = [1, 2, 1, 3, 3, 1, 4, 2]\n",
    "\n",
    "%matplotlib inline\n",
    "import matplotlib.pyplot as plt\n",
    "plt.hist(data)"
   ]
  },
  {
   "cell_type": "code",
   "execution_count": 65,
   "metadata": {},
   "outputs": [
    {
     "data": {
      "text/plain": [
       "(array([ 370.,  155.,   83.,   19.,   10.,    4.,    2.,    3.,    0.,    1.]),\n",
       " array([    0.        ,   356.47332645,   712.9466529 ,  1069.41997935,\n",
       "         1425.8933058 ,  1782.36663225,  2138.8399587 ,  2495.31328515,\n",
       "         2851.7866116 ,  3208.25993805,  3564.7332645 ]),\n",
       " <a list of 10 Patch objects>)"
      ]
     },
     "execution_count": 65,
     "metadata": {},
     "output_type": "execute_result"
    },
    {
     "data": {
      "image/png": "[encoded data removed]",
      "text/plain": [
       "<matplotlib.figure.Figure at 0x2bd96729470>"
      ]
     },
     "metadata": {},
     "output_type": "display_data"
    }
   ],
   "source": [
    "# minutes spent in the classroom\n",
    "# passing student histogram\n",
    "\n",
    "data = total_minutes_pe # list(total_minutes_passing_eng_by_account.values())\n",
    "\n",
    "%matplotlib inline\n",
    "import matplotlib.pyplot as plt\n",
    "plt.hist(data)"
   ]
  },
  {
   "cell_type": "code",
   "execution_count": 62,
   "metadata": {},
   "outputs": [
    {
     "data": {
      "text/plain": [
       "(array([ 272.,   34.,   17.,    9.,    6.,    2.,    1.,    5.,    0.,    2.]),\n",
       " array([    0.        ,   176.85227493,   353.70454987,   530.5568248 ,\n",
       "          707.40909973,   884.26137467,  1061.1136496 ,  1237.96592453,\n",
       "         1414.81819947,  1591.6704744 ,  1768.52274933]),\n",
       " <a list of 10 Patch objects>)"
      ]
     },
     "execution_count": 62,
     "metadata": {},
     "output_type": "execute_result"
    },
    {
     "data": {
      "image/png": "[encoded data removed]",
      "text/plain": [
       "<matplotlib.figure.Figure at 0x2bd966d24a8>"
      ]
     },
     "metadata": {},
     "output_type": "display_data"
    }
   ],
   "source": [
    "# non_passing\n",
    "# minutes spent\n",
    "\n",
    "data = total_minutes_npe\n",
    "\n",
    "%matplotlib inline\n",
    "import matplotlib.pyplot as plt\n",
    "plt.hist(data)"
   ]
  },
  {
   "cell_type": "code",
   "execution_count": 68,
   "metadata": {},
   "outputs": [
    {
     "data": {
      "text/plain": [
       "(array([ 317.,   17.,    6.,    4.,    1.,    1.,    0.,    1.,    0.,    1.]),\n",
       " array([  0. ,   2.7,   5.4,   8.1,  10.8,  13.5,  16.2,  18.9,  21.6,\n",
       "         24.3,  27. ]),\n",
       " <a list of 10 Patch objects>)"
      ]
     },
     "execution_count": 68,
     "metadata": {},
     "output_type": "execute_result"
    },
    {
     "data": {
      "image/png": "[encoded data removed]",
      "text/plain": [
       "<matplotlib.figure.Figure at 0x2bd966b0518>"
      ]
     },
     "metadata": {},
     "output_type": "display_data"
    }
   ],
   "source": [
    "# lessons completed\n",
    "\n",
    "data1 = total_lessons_pe # passing students\n",
    "data2 = total_lessons_npe # non_passing students\n",
    "\n",
    "%matplotlib inline\n",
    "import matplotlib.pyplot as plt\n",
    "plt.hist(data1)\n",
    "plt.hist(data2)"
   ]
  },
  {
   "cell_type": "code",
   "execution_count": 71,
   "metadata": {},
   "outputs": [
    {
     "data": {
      "text/plain": [
       "(array([ 97.,  90.,  56.,   0.,  41.,  15.,   0.,  24.,  17.,   8.]),\n",
       " array([ 0. ,  0.7,  1.4,  2.1,  2.8,  3.5,  4.2,  4.9,  5.6,  6.3,  7. ]),\n",
       " <a list of 10 Patch objects>)"
      ]
     },
     "execution_count": 71,
     "metadata": {},
     "output_type": "execute_result"
    },
    {
     "data": {
      "image/png": "[encoded data removed]",
      "text/plain": [
       "<matplotlib.figure.Figure at 0x2bd966a2cf8>"
      ]
     },
     "metadata": {},
     "output_type": "display_data"
    }
   ],
   "source": [
    "# days_visited\n",
    "\n",
    "data1 = total_days_pe    # passing students\n",
    "data2 = total_days_npe   # non_passing students\n",
    "\n",
    "%matplotlib inline\n",
    "import matplotlib.pyplot as plt\n",
    "plt.hist(data1)\n",
    "plt.hist(data2)"
   ]
  },
  {
   "cell_type": "code",
   "execution_count": 73,
   "metadata": {},
   "outputs": [],
   "source": [
    "# combine histogram with describe data using functions\n",
    "\n",
    "%matplotlib inline\n",
    "\n",
    "import numpy as np\n",
    "import matplotlib.pyplot as plt\n",
    "\n",
    "def describe_data(data):   \n",
    "    print('Mean: ', np.mean(data))\n",
    "    print('Standard Deviation: ', np.std(data))\n",
    "    print('Min: ', np.min(data))\n",
    "    print('Max: ', np.max(data))\n",
    "\n",
    "    plt.hist(data)"
   ]
  },
  {
   "cell_type": "code",
   "execution_count": 75,
   "metadata": {},
   "outputs": [
    {
     "name": "stdout",
     "output_type": "stream",
     "text": [
      "Passing students total minutes visited:\n",
      "Mean:  394.586046484\n",
      "Standard Deviation:  448.499519327\n",
      "Min:  0.0\n",
      "Max:  3564.7332645\n",
      "\n",
      "Non_passing students total minutes visited:\n",
      "Mean:  143.326474267\n",
      "Standard Deviation:  269.538619011\n",
      "Min:  0.0\n",
      "Max:  1768.52274933\n"
     ]
    },
    {
     "data": {
      "image/png": "[encoded data removed]",
      "text/plain": [
       "<matplotlib.figure.Figure at 0x2bd965cc668>"
      ]
     },
     "metadata": {},
     "output_type": "display_data"
    }
   ],
   "source": [
    "print (\"Passing students total minutes visited:\")\n",
    "describe_data(total_minutes_pe)\n",
    "print (\"\\nNon_passing students total minutes visited:\")\n",
    "describe_data(total_minutes_npe)"
   ]
  },
  {
   "cell_type": "code",
   "execution_count": 76,
   "metadata": {},
   "outputs": [
    {
     "name": "stdout",
     "output_type": "stream",
     "text": [
      "Passing students total lessons visited:\n",
      "Mean:  2.05255023184\n",
      "Standard Deviation:  3.14222705558\n",
      "Min:  0\n",
      "Max:  36\n",
      "\n",
      "Non_passing students total lessons visited:\n",
      "Mean:  0.862068965517\n",
      "Standard Deviation:  2.54915994183\n",
      "Min:  0\n",
      "Max:  27\n"
     ]
    },
    {
     "data": {
      "image/png": "[encoded data removed]",
      "text/plain": [
       "<matplotlib.figure.Figure at 0x2bd9658def0>"
      ]
     },
     "metadata": {},
     "output_type": "display_data"
    }
   ],
   "source": [
    "print (\"Passing students total lessons visited:\")\n",
    "describe_data(total_lessons_pe)\n",
    "print (\"\\nNon_passing students total lessons visited:\")\n",
    "describe_data(total_lessons_npe)"
   ]
  },
  {
   "cell_type": "code",
   "execution_count": 77,
   "metadata": {},
   "outputs": [
    {
     "name": "stdout",
     "output_type": "stream",
     "text": [
      "Passing students total days visited:\n",
      "Mean:  3.38485316847\n",
      "Standard Deviation:  2.25882147092\n",
      "Min:  0\n",
      "Max:  7\n",
      "\n",
      "Non_passing students total days visited:\n",
      "Mean:  1.90517241379\n",
      "Standard Deviation:  1.90573144136\n",
      "Min:  0\n",
      "Max:  7\n"
     ]
    },
    {
     "data": {
      "image/png": "[encoded data removed]",
      "text/plain": [
       "<matplotlib.figure.Figure at 0x2bd96561cf8>"
      ]
     },
     "metadata": {},
     "output_type": "display_data"
    }
   ],
   "source": [
    "print (\"Passing students total days visited:\")\n",
    "describe_data(total_days_pe)\n",
    "print (\"\\nNon_passing students total days visited:\")\n",
    "describe_data(total_days_npe)"
   ]
  },
  {
   "cell_type": "code",
   "execution_count": 78,
   "metadata": {
    "collapsed": true
   },
   "outputs": [],
   "source": [
    "# Q: Why the last histogram is not continuous?\n",
    "\n",
    "# A: Solved by adding bins argument such as bins = 20 \n",
    "# A: Bins set to 8 is much better"
   ]
  },
  {
   "cell_type": "markdown",
   "metadata": {},
   "source": [
    "## Improving Plots and Sharing Findings"
   ]
  },
  {
   "cell_type": "code",
   "execution_count": null,
   "metadata": {
    "collapsed": true
   },
   "outputs": [],
   "source": [
    "######################################\n",
    "#                 14                 #\n",
    "######################################\n",
    "\n",
    "## Make a more polished version of at least one of your visualizations\n",
    "## from earlier. Try importing the seaborn library to make the visualization\n",
    "## look better, adding axis labels and a title, and changing one or more\n",
    "## arguments to the hist() function."
   ]
  },
  {
   "cell_type": "code",
   "execution_count": null,
   "metadata": {
    "collapsed": true
   },
   "outputs": [],
   "source": [
    "# plt.xlabel(\"Label for x axis\")\n",
    "# plt.ylabel(\"Label for y axis\")\n",
    "# plt.title(\"Title of plot\")\n",
    "# Making plots look nicer with seaborn\n",
    "\n",
    "# plt.hist(data, bins=20)"
   ]
  },
  {
   "cell_type": "code",
   "execution_count": 116,
   "metadata": {},
   "outputs": [],
   "source": [
    "# Adding extra arguments to your plot\n",
    "# One common argument to pass is the bins argument, \n",
    "#  which sets the number of bins used by your histogram.\n",
    "\n",
    "%matplotlib inline\n",
    "\n",
    "import numpy as np\n",
    "import matplotlib.pyplot as plt\n",
    "\n",
    "def describe_data(data):   \n",
    "    print('Mean: ', np.mean(data))\n",
    "    print('Standard Deviation: ', np.std(data))\n",
    "    print('Min: ', np.min(data))\n",
    "    print('Max: ', np.max(data))\n",
    "\n",
    "    plt.hist(data, bins=20)"
   ]
  },
  {
   "cell_type": "code",
   "execution_count": 117,
   "metadata": {},
   "outputs": [
    {
     "name": "stdout",
     "output_type": "stream",
     "text": [
      "Passing students total days visited:\n",
      "Mean:  3.38485316847\n",
      "Standard Deviation:  2.25882147092\n",
      "Min:  0\n",
      "Max:  7\n",
      "\n",
      "Non_passing students total days visited:\n",
      "Mean:  1.90517241379\n",
      "Standard Deviation:  1.90573144136\n",
      "Min:  0\n",
      "Max:  7\n"
     ]
    },
    {
     "data": {
      "text/plain": [
       "<matplotlib.legend.Legend at 0x2bd95d7b7f0>"
      ]
     },
     "execution_count": 117,
     "metadata": {},
     "output_type": "execute_result"
    },
    {
     "data": {
      "image/png": "[encoded data removed]",
      "text/plain": [
       "<matplotlib.figure.Figure at 0x2bd96131080>"
      ]
     },
     "metadata": {},
     "output_type": "display_data"
    }
   ],
   "source": [
    "print (\"Passing students total days visited:\")\n",
    "describe_data(total_days_pe)\n",
    "print (\"\\nNon_passing students total days visited:\")\n",
    "describe_data(total_days_npe)\n",
    "plt.xlabel(\"Total days visited within first week of enrollment\")\n",
    "plt.ylabel(\"Number of students\")\n",
    "plt.title(\"Comparing total days visited \\nof students who passed first project or not\")\n",
    "plt.legend(('passing students', 'non_passing students'))  # adding legend names as color bar labels"
   ]
  },
  {
   "cell_type": "code",
   "execution_count": 105,
   "metadata": {
    "collapsed": true
   },
   "outputs": [],
   "source": [
    "# Q: Prevous figure the 0 1 catogories non_passing students\n",
    "#   is overlapping with passing students and is shading the \n",
    "#   passing students data. How to improve on this issue?"
   ]
  },
  {
   "cell_type": "code",
   "execution_count": 205,
   "metadata": {
    "collapsed": true
   },
   "outputs": [],
   "source": [
    "# Use seaborn to improve visualization\n",
    "\n",
    "%matplotlib inline\n",
    "\n",
    "import numpy as np\n",
    "import matplotlib.pyplot as plt\n",
    "\n",
    "import seaborn as sns\n",
    "\n",
    "def describe_data(data):   \n",
    "    print('Mean: ', np.mean(data))\n",
    "    print('Standard Deviation: ', np.std(data))\n",
    "    print('Min: ', np.min(data))\n",
    "    print('Max: ', np.max(data))\n",
    "\n",
    "#    sns.distplot(data, bins=8, kde=False, rug = True, label = bar_label)"
   ]
  },
  {
   "cell_type": "code",
   "execution_count": 206,
   "metadata": {
    "collapsed": true
   },
   "outputs": [],
   "source": [
    "# Set seaborn themes\n",
    "# Seaborn figure styles http://seaborn.pydata.org/tutorial/aesthetics.html\n",
    "# There are five preset seaborn themes: darkgrid, whitegrid, dark, white, and ticks. \n",
    "#     They are each suited to different applications and personal preferences. \n",
    "#     The default theme is darkgrid. As mentioned above, the grid helps the plot serve \n",
    "#     as a lookup table for quantitative information, and the white-on grey helps to \n",
    "#     keep the grid from competing with lines that represent data. \n",
    "#     The whitegrid theme is similar, but it is better suited to plots with heavy data elements\n",
    "# Previous style is like 'ticks'\n",
    "\n",
    "sns.set_style(\"darkgrid\")"
   ]
  },
  {
   "cell_type": "code",
   "execution_count": 207,
   "metadata": {},
   "outputs": [],
   "source": [
    "# make plot bigger\n",
    "\n",
    "sns.set(rc={'figure.figsize':(9,6)})"
   ]
  },
  {
   "cell_type": "code",
   "execution_count": 208,
   "metadata": {
    "collapsed": true
   },
   "outputs": [],
   "source": [
    "# make font size bigger\n",
    "\n",
    "sns.set_context(\"talk\", font_scale=1.4)"
   ]
  },
  {
   "cell_type": "code",
   "execution_count": 209,
   "metadata": {},
   "outputs": [
    {
     "name": "stdout",
     "output_type": "stream",
     "text": [
      "Passing students total days visited:\n",
      "Mean:  3.38485316847\n",
      "Standard Deviation:  2.25882147092\n",
      "Min:  0\n",
      "Max:  7\n",
      "\n",
      "Non_passing students total days visited:\n",
      "Mean:  1.90517241379\n",
      "Standard Deviation:  1.90573144136\n",
      "Min:  0\n",
      "Max:  7\n"
     ]
    },
    {
     "data": {
      "text/plain": [
       "<matplotlib.legend.Legend at 0x2bdb001c9e8>"
      ]
     },
     "execution_count": 209,
     "metadata": {},
     "output_type": "execute_result"
    },
    {
     "data": {
      "image/png": "[encoded data removed]",
      "text/plain": [
       "<matplotlib.figure.Figure at 0x2bdb004c048>"
      ]
     },
     "metadata": {},
     "output_type": "display_data"
    }
   ],
   "source": [
    "print (\"Passing students total days visited:\")\n",
    "describe_data(total_days_pe)\n",
    "sns.distplot(total_days_pe, bins=8, kde=False, label = \"passing\")\n",
    "print (\"\\nNon_passing students total days visited:\")\n",
    "describe_data(total_days_npe)\n",
    "sns.distplot(total_days_npe, bins=8, kde=False, label = \"non_passing\")\n",
    "plt.xlabel(\"Total days visited within first week of enrollment\")\n",
    "plt.ylabel(\"Number of students\")\n",
    "plt.title(\"Comparing total days visited \\nof students who passed first project or not\")\n",
    "plt.legend()"
   ]
  },
  {
   "cell_type": "code",
   "execution_count": null,
   "metadata": {
    "collapsed": true
   },
   "outputs": [],
   "source": [
    "# While using seaborn to plot. I noticed the caculation takes longer time."
   ]
  }
 ],
 "metadata": {
  "kernelspec": {
   "display_name": "Python 3",
   "language": "python",
   "name": "python3"
  },
  "language_info": {
   "codemirror_mode": {
    "name": "ipython",
    "version": 3
   },
   "file_extension": ".py",
   "mimetype": "text/x-python",
   "name": "python",
   "nbconvert_exporter": "python",
   "pygments_lexer": "ipython3",
   "version": "3.5.4"
  }
 },
 "nbformat": 4,
 "nbformat_minor": 1
}
